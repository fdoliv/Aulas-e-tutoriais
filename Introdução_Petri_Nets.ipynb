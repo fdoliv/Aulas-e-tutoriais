{
  "nbformat": 4,
  "nbformat_minor": 0,
  "metadata": {
    "colab": {
      "name": "Introdução Petri Nets.ipynb",
      "provenance": [],
      "collapsed_sections": [
        "bmh_O_Bs8__S"
      ],
      "authorship_tag": "ABX9TyOeFY50B6c4QuHjlmV45Imh",
      "include_colab_link": true
    },
    "kernelspec": {
      "name": "python3",
      "display_name": "Python 3"
    }
  },
  "cells": [
    {
      "cell_type": "markdown",
      "metadata": {
        "id": "view-in-github",
        "colab_type": "text"
      },
      "source": [
        "<a href=\"https://colab.research.google.com/github/flpdias14/Aulas-e-tutoriais/blob/master/Introdu%C3%A7%C3%A3o_Petri_Nets.ipynb\" target=\"_parent\"><img src=\"https://colab.research.google.com/assets/colab-badge.svg\" alt=\"Open In Colab\"/></a>"
      ]
    },
    {
      "cell_type": "markdown",
      "metadata": {
        "id": "PRLqkNquHQYK"
      },
      "source": [
        "#1. Introdução\n",
        "\n",
        "#2. Petri Nets: uma visão geral\n"
      ]
    },
    {
      "cell_type": "markdown",
      "metadata": {
        "id": "z0m9Jo8KX0XS"
      },
      "source": [
        "# 3. Petri Nets e PM4PY"
      ]
    },
    {
      "cell_type": "markdown",
      "metadata": {
        "id": "bmh_O_Bs8__S"
      },
      "source": [
        "###3.1 Instalando o PM4PY\n",
        "\n"
      ]
    },
    {
      "cell_type": "markdown",
      "metadata": {
        "id": "R1Nl7OUX63gL"
      },
      "source": [
        ""
      ]
    },
    {
      "cell_type": "code",
      "metadata": {
        "id": "NG4w4GIosjMz",
        "colab": {
          "base_uri": "https://localhost:8080/"
        },
        "outputId": "a4df596e-6871-45a9-ccb8-1a907f171639"
      },
      "source": [
        "!pip install pm4py"
      ],
      "execution_count": 1,
      "outputs": [
        {
          "output_type": "stream",
          "text": [
            "Collecting pm4py\n",
            "\u001b[?25l  Downloading https://files.pythonhosted.org/packages/92/2c/3e6669da3f35b53edd643fff4351456e78ebea59ceb76af9f88fd3a9a50a/pm4py-2.1.1-py3-none-any.whl (649kB)\n",
            "\r\u001b[K     |▌                               | 10kB 17.7MB/s eta 0:00:01\r\u001b[K     |█                               | 20kB 21.9MB/s eta 0:00:01\r\u001b[K     |█▌                              | 30kB 14.6MB/s eta 0:00:01\r\u001b[K     |██                              | 40kB 14.1MB/s eta 0:00:01\r\u001b[K     |██▌                             | 51kB 10.7MB/s eta 0:00:01\r\u001b[K     |███                             | 61kB 8.1MB/s eta 0:00:01\r\u001b[K     |███▌                            | 71kB 8.7MB/s eta 0:00:01\r\u001b[K     |████                            | 81kB 9.1MB/s eta 0:00:01\r\u001b[K     |████▌                           | 92kB 8.5MB/s eta 0:00:01\r\u001b[K     |█████                           | 102kB 8.7MB/s eta 0:00:01\r\u001b[K     |█████▌                          | 112kB 8.7MB/s eta 0:00:01\r\u001b[K     |██████                          | 122kB 8.7MB/s eta 0:00:01\r\u001b[K     |██████▌                         | 133kB 8.7MB/s eta 0:00:01\r\u001b[K     |███████                         | 143kB 8.7MB/s eta 0:00:01\r\u001b[K     |███████▋                        | 153kB 8.7MB/s eta 0:00:01\r\u001b[K     |████████                        | 163kB 8.7MB/s eta 0:00:01\r\u001b[K     |████████▋                       | 174kB 8.7MB/s eta 0:00:01\r\u001b[K     |█████████                       | 184kB 8.7MB/s eta 0:00:01\r\u001b[K     |█████████▋                      | 194kB 8.7MB/s eta 0:00:01\r\u001b[K     |██████████                      | 204kB 8.7MB/s eta 0:00:01\r\u001b[K     |██████████▋                     | 215kB 8.7MB/s eta 0:00:01\r\u001b[K     |███████████                     | 225kB 8.7MB/s eta 0:00:01\r\u001b[K     |███████████▋                    | 235kB 8.7MB/s eta 0:00:01\r\u001b[K     |████████████                    | 245kB 8.7MB/s eta 0:00:01\r\u001b[K     |████████████▋                   | 256kB 8.7MB/s eta 0:00:01\r\u001b[K     |█████████████                   | 266kB 8.7MB/s eta 0:00:01\r\u001b[K     |█████████████▋                  | 276kB 8.7MB/s eta 0:00:01\r\u001b[K     |██████████████▏                 | 286kB 8.7MB/s eta 0:00:01\r\u001b[K     |██████████████▋                 | 296kB 8.7MB/s eta 0:00:01\r\u001b[K     |███████████████▏                | 307kB 8.7MB/s eta 0:00:01\r\u001b[K     |███████████████▋                | 317kB 8.7MB/s eta 0:00:01\r\u001b[K     |████████████████▏               | 327kB 8.7MB/s eta 0:00:01\r\u001b[K     |████████████████▋               | 337kB 8.7MB/s eta 0:00:01\r\u001b[K     |█████████████████▏              | 348kB 8.7MB/s eta 0:00:01\r\u001b[K     |█████████████████▋              | 358kB 8.7MB/s eta 0:00:01\r\u001b[K     |██████████████████▏             | 368kB 8.7MB/s eta 0:00:01\r\u001b[K     |██████████████████▋             | 378kB 8.7MB/s eta 0:00:01\r\u001b[K     |███████████████████▏            | 389kB 8.7MB/s eta 0:00:01\r\u001b[K     |███████████████████▋            | 399kB 8.7MB/s eta 0:00:01\r\u001b[K     |████████████████████▏           | 409kB 8.7MB/s eta 0:00:01\r\u001b[K     |████████████████████▊           | 419kB 8.7MB/s eta 0:00:01\r\u001b[K     |█████████████████████▏          | 430kB 8.7MB/s eta 0:00:01\r\u001b[K     |█████████████████████▊          | 440kB 8.7MB/s eta 0:00:01\r\u001b[K     |██████████████████████▏         | 450kB 8.7MB/s eta 0:00:01\r\u001b[K     |██████████████████████▊         | 460kB 8.7MB/s eta 0:00:01\r\u001b[K     |███████████████████████▏        | 471kB 8.7MB/s eta 0:00:01\r\u001b[K     |███████████████████████▊        | 481kB 8.7MB/s eta 0:00:01\r\u001b[K     |████████████████████████▏       | 491kB 8.7MB/s eta 0:00:01\r\u001b[K     |████████████████████████▊       | 501kB 8.7MB/s eta 0:00:01\r\u001b[K     |█████████████████████████▏      | 512kB 8.7MB/s eta 0:00:01\r\u001b[K     |█████████████████████████▊      | 522kB 8.7MB/s eta 0:00:01\r\u001b[K     |██████████████████████████▏     | 532kB 8.7MB/s eta 0:00:01\r\u001b[K     |██████████████████████████▊     | 542kB 8.7MB/s eta 0:00:01\r\u001b[K     |███████████████████████████▎    | 552kB 8.7MB/s eta 0:00:01\r\u001b[K     |███████████████████████████▊    | 563kB 8.7MB/s eta 0:00:01\r\u001b[K     |████████████████████████████▎   | 573kB 8.7MB/s eta 0:00:01\r\u001b[K     |████████████████████████████▊   | 583kB 8.7MB/s eta 0:00:01\r\u001b[K     |█████████████████████████████▎  | 593kB 8.7MB/s eta 0:00:01\r\u001b[K     |█████████████████████████████▊  | 604kB 8.7MB/s eta 0:00:01\r\u001b[K     |██████████████████████████████▎ | 614kB 8.7MB/s eta 0:00:01\r\u001b[K     |██████████████████████████████▊ | 624kB 8.7MB/s eta 0:00:01\r\u001b[K     |███████████████████████████████▎| 634kB 8.7MB/s eta 0:00:01\r\u001b[K     |███████████████████████████████▊| 645kB 8.7MB/s eta 0:00:01\r\u001b[K     |████████████████████████████████| 655kB 8.7MB/s \n",
            "\u001b[?25hCollecting pyvis\n",
            "  Downloading https://files.pythonhosted.org/packages/77/e1/bee44bc4ec826bb7ed1f1ff52244bca3745b1a7d72033fc84ffeed61725b/pyvis-0.1.8.2-py3-none-any.whl\n",
            "Requirement already satisfied: scikit-learn; python_version < \"3.9\" in /usr/local/lib/python3.6/dist-packages (from pm4py) (0.22.2.post1)\n",
            "Requirement already satisfied: pandas in /usr/local/lib/python3.6/dist-packages (from pm4py) (1.1.4)\n",
            "Collecting stringdist\n",
            "  Downloading https://files.pythonhosted.org/packages/85/f0/c56cbe92b4b06fbc7adaa81917ad34d7027834e166fff2d2db73961c67fa/StringDist-1.0.9.tar.gz\n",
            "Requirement already satisfied: numpy<=1.19.3 in /usr/local/lib/python3.6/dist-packages (from pm4py) (1.18.5)\n",
            "Collecting ciso8601; python_version < \"3.7\"\n",
            "  Downloading https://files.pythonhosted.org/packages/2c/da/626910cf8aca7ed2d5b34355eee8aeaaeb6ddd4e16f98d00a9e2ddad3a08/ciso8601-2.1.3.tar.gz\n",
            "Collecting jsonpickle\n",
            "  Downloading https://files.pythonhosted.org/packages/ee/d5/1cc282dc23346a43aab461bf2e8c36593aacd34242bee1a13fa750db0cfe/jsonpickle-1.4.2-py2.py3-none-any.whl\n",
            "Collecting pm4pycvxopt>=0.0.10; python_version < \"3.9\"\n",
            "  Downloading https://files.pythonhosted.org/packages/02/55/94d4543809dd37de3e49449917d24fd4114316f6e952b32c5705e7f12a3c/pm4pycvxopt-0.0.10-py3-none-any.whl\n",
            "Requirement already satisfied: tqdm in /usr/local/lib/python3.6/dist-packages (from pm4py) (4.41.1)\n",
            "Requirement already satisfied: intervaltree in /usr/local/lib/python3.6/dist-packages (from pm4py) (2.1.0)\n",
            "Collecting deprecation\n",
            "  Downloading https://files.pythonhosted.org/packages/02/c3/253a89ee03fc9b9682f1541728eb66db7db22148cd94f89ab22528cd1e1b/deprecation-2.1.0-py2.py3-none-any.whl\n",
            "Requirement already satisfied: lxml in /usr/local/lib/python3.6/dist-packages (from pm4py) (4.2.6)\n",
            "Requirement already satisfied: scipy in /usr/local/lib/python3.6/dist-packages (from pm4py) (1.4.1)\n",
            "Requirement already satisfied: graphviz in /usr/local/lib/python3.6/dist-packages (from pm4py) (0.10.1)\n",
            "Collecting pulp<=2.1\n",
            "\u001b[?25l  Downloading https://files.pythonhosted.org/packages/41/34/757c88c320f80ce602199603afe63aed1e0bc11180b9a9fb6018fb2ce7ef/PuLP-2.1-py3-none-any.whl (40.6MB)\n",
            "\u001b[K     |████████████████████████████████| 40.6MB 104kB/s \n",
            "\u001b[?25hRequirement already satisfied: networkx in /usr/local/lib/python3.6/dist-packages (from pm4py) (2.5)\n",
            "Requirement already satisfied: pytz in /usr/local/lib/python3.6/dist-packages (from pm4py) (2018.9)\n",
            "Requirement already satisfied: sympy in /usr/local/lib/python3.6/dist-packages (from pm4py) (1.1.1)\n",
            "Requirement already satisfied: matplotlib in /usr/local/lib/python3.6/dist-packages (from pm4py) (3.2.2)\n",
            "Requirement already satisfied: pydotplus in /usr/local/lib/python3.6/dist-packages (from pm4py) (2.0.2)\n",
            "Requirement already satisfied: jinja2>=2.9.6 in /usr/local/lib/python3.6/dist-packages (from pyvis->pm4py) (2.11.2)\n",
            "Requirement already satisfied: ipython>=5.3.0 in /usr/local/lib/python3.6/dist-packages (from pyvis->pm4py) (5.5.0)\n",
            "Requirement already satisfied: joblib>=0.11 in /usr/local/lib/python3.6/dist-packages (from scikit-learn; python_version < \"3.9\"->pm4py) (0.17.0)\n",
            "Requirement already satisfied: python-dateutil>=2.7.3 in /usr/local/lib/python3.6/dist-packages (from pandas->pm4py) (2.8.1)\n",
            "Requirement already satisfied: importlib-metadata; python_version < \"3.8\" in /usr/local/lib/python3.6/dist-packages (from jsonpickle->pm4py) (2.0.0)\n",
            "Requirement already satisfied: cvxopt in /usr/local/lib/python3.6/dist-packages (from pm4pycvxopt>=0.0.10; python_version < \"3.9\"->pm4py) (1.2.5)\n",
            "Requirement already satisfied: sortedcontainers in /usr/local/lib/python3.6/dist-packages (from intervaltree->pm4py) (2.3.0)\n",
            "Requirement already satisfied: packaging in /usr/local/lib/python3.6/dist-packages (from deprecation->pm4py) (20.4)\n",
            "Requirement already satisfied: pyparsing>=2.0.1 in /usr/local/lib/python3.6/dist-packages (from pulp<=2.1->pm4py) (2.4.7)\n",
            "Requirement already satisfied: decorator>=4.3.0 in /usr/local/lib/python3.6/dist-packages (from networkx->pm4py) (4.4.2)\n",
            "Requirement already satisfied: mpmath>=0.19 in /usr/local/lib/python3.6/dist-packages (from sympy->pm4py) (1.1.0)\n",
            "Requirement already satisfied: kiwisolver>=1.0.1 in /usr/local/lib/python3.6/dist-packages (from matplotlib->pm4py) (1.3.1)\n",
            "Requirement already satisfied: cycler>=0.10 in /usr/local/lib/python3.6/dist-packages (from matplotlib->pm4py) (0.10.0)\n",
            "Requirement already satisfied: MarkupSafe>=0.23 in /usr/local/lib/python3.6/dist-packages (from jinja2>=2.9.6->pyvis->pm4py) (1.1.1)\n",
            "Requirement already satisfied: prompt-toolkit<2.0.0,>=1.0.4 in /usr/local/lib/python3.6/dist-packages (from ipython>=5.3.0->pyvis->pm4py) (1.0.18)\n",
            "Requirement already satisfied: pickleshare in /usr/local/lib/python3.6/dist-packages (from ipython>=5.3.0->pyvis->pm4py) (0.7.5)\n",
            "Requirement already satisfied: simplegeneric>0.8 in /usr/local/lib/python3.6/dist-packages (from ipython>=5.3.0->pyvis->pm4py) (0.8.1)\n",
            "Requirement already satisfied: setuptools>=18.5 in /usr/local/lib/python3.6/dist-packages (from ipython>=5.3.0->pyvis->pm4py) (50.3.2)\n",
            "Requirement already satisfied: pygments in /usr/local/lib/python3.6/dist-packages (from ipython>=5.3.0->pyvis->pm4py) (2.6.1)\n",
            "Requirement already satisfied: traitlets>=4.2 in /usr/local/lib/python3.6/dist-packages (from ipython>=5.3.0->pyvis->pm4py) (4.3.3)\n",
            "Requirement already satisfied: pexpect; sys_platform != \"win32\" in /usr/local/lib/python3.6/dist-packages (from ipython>=5.3.0->pyvis->pm4py) (4.8.0)\n",
            "Requirement already satisfied: six>=1.5 in /usr/local/lib/python3.6/dist-packages (from python-dateutil>=2.7.3->pandas->pm4py) (1.15.0)\n",
            "Requirement already satisfied: zipp>=0.5 in /usr/local/lib/python3.6/dist-packages (from importlib-metadata; python_version < \"3.8\"->jsonpickle->pm4py) (3.4.0)\n",
            "Requirement already satisfied: wcwidth in /usr/local/lib/python3.6/dist-packages (from prompt-toolkit<2.0.0,>=1.0.4->ipython>=5.3.0->pyvis->pm4py) (0.2.5)\n",
            "Requirement already satisfied: ipython-genutils in /usr/local/lib/python3.6/dist-packages (from traitlets>=4.2->ipython>=5.3.0->pyvis->pm4py) (0.2.0)\n",
            "Requirement already satisfied: ptyprocess>=0.5 in /usr/local/lib/python3.6/dist-packages (from pexpect; sys_platform != \"win32\"->ipython>=5.3.0->pyvis->pm4py) (0.6.0)\n",
            "Building wheels for collected packages: stringdist, ciso8601\n",
            "  Building wheel for stringdist (setup.py) ... \u001b[?25l\u001b[?25hdone\n",
            "  Created wheel for stringdist: filename=StringDist-1.0.9-cp36-cp36m-linux_x86_64.whl size=24387 sha256=d6eaad8f20e0883ccef76c327ec3b66908fe4a915b4cc30d68f1f072a9e6de3f\n",
            "  Stored in directory: /root/.cache/pip/wheels/c3/1b/bb/bf0de4d64d8ca38759811fe3353e441f12feb606fb3d1d2e11\n",
            "  Building wheel for ciso8601 (setup.py) ... \u001b[?25l\u001b[?25hdone\n",
            "  Created wheel for ciso8601: filename=ciso8601-2.1.3-cp36-cp36m-linux_x86_64.whl size=28303 sha256=8f1047f7f8ba7ed4cffb86cca19ed40f06ad9c88de2dfded2cb01091608c83cf\n",
            "  Stored in directory: /root/.cache/pip/wheels/eb/32/e4/13bdaf7e245f82667b21e0cfb03d21224691a47fa9f9bc80a6\n",
            "Successfully built stringdist ciso8601\n",
            "Installing collected packages: jsonpickle, pyvis, stringdist, ciso8601, pm4pycvxopt, deprecation, pulp, pm4py\n",
            "Successfully installed ciso8601-2.1.3 deprecation-2.1.0 jsonpickle-1.4.2 pm4py-2.1.1 pm4pycvxopt-0.0.10 pulp-2.1 pyvis-0.1.8.2 stringdist-1.0.9\n"
          ],
          "name": "stdout"
        }
      ]
    },
    {
      "cell_type": "markdown",
      "metadata": {
        "id": "Z7m4nZ9GYKeb"
      },
      "source": [
        "### 3.2 Importando uma Petri Net"
      ]
    },
    {
      "cell_type": "markdown",
      "metadata": {
        "id": "NsnILoYs2b5C"
      },
      "source": [
        "As redes de Petri com seus estados transições e arcos bem como sua marcação inicial e final, podem ser importadas/exportadas do formato de arquivo PNML (*Petri Net Markup Language*).\n",
        "\n",
        "Para isso, temos que primeiro importar o módulo:"
      ]
    },
    {
      "cell_type": "code",
      "metadata": {
        "id": "hSl_LOo1S2np"
      },
      "source": [
        "from pm4py.objects.petri.importer import importer as pnml_importer"
      ],
      "execution_count": 2,
      "outputs": []
    },
    {
      "cell_type": "markdown",
      "metadata": {
        "id": "1m0_dVcx31g1"
      },
      "source": [
        "Em seguida, devemos **fazer o upload do arquivo .pnml** contendo o modelo  e, em sequência, **utilizar o método ```apply``` para carregar o modelo:**\n",
        "\n",
        "\n",
        "\n"
      ]
    },
    {
      "cell_type": "code",
      "metadata": {
        "id": "1ZhbiTFlUvOB"
      },
      "source": [
        "net, initial_marking, final_marking = pnml_importer.apply(\"problem410.pnml\")"
      ],
      "execution_count": 4,
      "outputs": []
    },
    {
      "cell_type": "markdown",
      "metadata": {
        "id": "nSZYYMSK8Uej"
      },
      "source": [
        "O método ```apply``` retorna três objetos: um do tipo Petrinet (variável net) e dois objetos do tipo Marking, contendo a marcação inicial e final."
      ]
    },
    {
      "cell_type": "markdown",
      "metadata": {
        "id": "jsMWTzXfYmIl"
      },
      "source": [
        "###3.3 Visualizando a Petri Net"
      ]
    },
    {
      "cell_type": "markdown",
      "metadata": {
        "id": "J01fk81b-GwG"
      },
      "source": [
        "Para visualizar a rede que acabamos de importar precisamos importar o módulo ```visualizer```."
      ]
    },
    {
      "cell_type": "code",
      "metadata": {
        "id": "0mgu7EODV4W0"
      },
      "source": [
        "from pm4py.visualization.petrinet import visualizer as pn_visualizer"
      ],
      "execution_count": 8,
      "outputs": []
    },
    {
      "cell_type": "markdown",
      "metadata": {
        "id": "mjj0ZqdB-6NY"
      },
      "source": [
        "Para gerar a representação gráfica da rede utilizaremos o método ```apply``` do módulo, passando como parâmetros a rede, a marcação inicial e a marcação final. O retorno da função ```apply``` é um gráfico cujo arquivo .png pode ser visualizado com o método ```view```."
      ]
    },
    {
      "cell_type": "code",
      "metadata": {
        "colab": {
          "base_uri": "https://localhost:8080/",
          "height": 35
        },
        "id": "zCBsJN2bWIf3",
        "outputId": "2b9bc4c8-43e0-4282-dd9e-e70880446518"
      },
      "source": [
        "gviz = pn_visualizer.apply(net, initial_marking, final_marking)\n",
        "image = pn_visualizer.view(gviz)\n",
        "image"
      ],
      "execution_count": 9,
      "outputs": [
        {
          "output_type": "execute_result",
          "data": {
            "application/vnd.google.colaboratory.intrinsic+json": {
              "type": "string"
            },
            "text/plain": [
              "'/tmp/tmpqzp5k5n7.gv.png'"
            ]
          },
          "metadata": {
            "tags": []
          },
          "execution_count": 9
        }
      ]
    },
    {
      "cell_type": "markdown",
      "metadata": {
        "id": "vEqMn-x5AIbE"
      },
      "source": [
        "Como o colab não suporta a visualização, o arquivo gerado é salvo no diretório acima. Uma vez gerado o arquivo, podemos o vizualizar com o módulo ```Image```. Para isso basta importar:"
      ]
    },
    {
      "cell_type": "code",
      "metadata": {
        "id": "Wf8YkDgY-tHP"
      },
      "source": [
        "from IPython.display import Image"
      ],
      "execution_count": 10,
      "outputs": []
    },
    {
      "cell_type": "markdown",
      "metadata": {
        "id": "4V9WbV5EAgAw"
      },
      "source": [
        "E assim:"
      ]
    },
    {
      "cell_type": "code",
      "metadata": {
        "colab": {
          "base_uri": "https://localhost:8080/",
          "height": 270
        },
        "id": "DhWyBAG9-uo4",
        "outputId": "bd038eb9-fcdc-42a0-e95c-6259425072ec"
      },
      "source": [
        "Image(image)"
      ],
      "execution_count": 11,
      "outputs": [
        {
          "output_type": "execute_result",
          "data": {
            "image/png": "[encoded data removed]",
            "text/plain": [
              "<IPython.core.display.Image object>"
            ]
          },
          "metadata": {
            "tags": []
          },
          "execution_count": 11
        }
      ]
    },
    {
      "cell_type": "markdown",
      "metadata": {
        "id": "B67T70HsJNom"
      },
      "source": [
        "É possível alterar o formato da imagem da rede. Para isso é necessário:"
      ]
    },
    {
      "cell_type": "code",
      "metadata": {
        "id": "yPIbpaGHJ6RY"
      },
      "source": [
        "parameters = {pn_visualizer.Variants.WO_DECORATION.value.Parameters.FORMAT:\"svg\"}\n",
        "\n",
        "gviz = pn_visualizer.apply(net, initial_marking, final_marking, parameters=parameters)\n",
        "pn_visualizer.view(gviz)\n"
      ],
      "execution_count": null,
      "outputs": []
    },
    {
      "cell_type": "markdown",
      "metadata": {
        "id": "bDB_32THKzAG"
      },
      "source": [
        "Se quisermos salvar a imagem gerada isso pode ser feito com o método ```save```:"
      ]
    },
    {
      "cell_type": "code",
      "metadata": {
        "id": "VWa3PcSNK72z"
      },
      "source": [
        "pn_visualizer.save(gviz, \"alpha.svg\")"
      ],
      "execution_count": 31,
      "outputs": []
    },
    {
      "cell_type": "markdown",
      "metadata": {
        "id": "-jUMsIXEY2po"
      },
      "source": [
        "###3.4 Exportando uma Petri Net"
      ]
    },
    {
      "cell_type": "markdown",
      "metadata": {
        "id": "4fPxmA3xAsm6"
      },
      "source": [
        "Para exportar uma Petri Net, iremos precisar utilizar o módulo ```exporter```, que pode ser importado da seguinte forma:"
      ]
    },
    {
      "cell_type": "code",
      "metadata": {
        "id": "XW_q5nC3XWeJ"
      },
      "source": [
        "from pm4py.objects.petri.exporter import exporter as pnml_exporter"
      ],
      "execution_count": null,
      "outputs": []
    },
    {
      "cell_type": "markdown",
      "metadata": {
        "id": "0914kNRHB7cE"
      },
      "source": [
        "Utilizando o método ```apply``` , passando como parâmetros a rede, suas marcações e caminho onde o arquivo .pnml deve ser salvo, realizamos a exportação da rede: "
      ]
    },
    {
      "cell_type": "code",
      "metadata": {
        "id": "kbHdoNKXZa7D"
      },
      "source": [
        "pnml_exporter.apply(net, initial_marking, \"petri.pnml\")"
      ],
      "execution_count": null,
      "outputs": []
    },
    {
      "cell_type": "markdown",
      "metadata": {
        "id": "cnTlbfbF4Ihz"
      },
      "source": [
        "##3.5 Propriedades da Rede\n",
        "\n",
        "Uma vez que já conseguimos importar uma rede, é interessante poder avaliar algumas propriedades da rede. \n",
        "\n",
        "Uma propriedade da rede pode ser, por exemplo, se uma transição está habilitada em uma determinada marcação. Além disso, podemos avaliar a lista de estados, transições e arcos.\n",
        "\n",
        "Para verificar as propriedades da rede no PM4PY, devemos começar importando o módulo ```semantics``` :"
      ]
    },
    {
      "cell_type": "code",
      "metadata": {
        "id": "lR4Xy1eI6k1b"
      },
      "source": [
        "from pm4py.objects.petri import semantics"
      ],
      "execution_count": 5,
      "outputs": []
    },
    {
      "cell_type": "markdown",
      "metadata": {
        "id": "jyc3IFdw6orh"
      },
      "source": [
        "Agora, para obter o conjunto de todas as transições habilitadas para uma dada marcação, basta utilizar o méétodo ```enabled_transitions``` passando como parâmetros a rede e a marcação. Por exemplo: "
      ]
    },
    {
      "cell_type": "code",
      "metadata": {
        "colab": {
          "base_uri": "https://localhost:8080/"
        },
        "id": "qFk7YtHj681L",
        "outputId": "07ece58b-02bf-43d4-e4c9-f95d4634512c"
      },
      "source": [
        "transitions = semantics.enabled_transitions(net, initial_marking)\n",
        "transitions"
      ],
      "execution_count": 32,
      "outputs": [
        {
          "output_type": "execute_result",
          "data": {
            "text/plain": [
              "{t1}"
            ]
          },
          "metadata": {
            "tags": []
          },
          "execution_count": 32
        }
      ]
    },
    {
      "cell_type": "markdown",
      "metadata": {
        "id": "Z34Hm3ir8Wrz"
      },
      "source": [
        "Como vimos no exemplo acima que o método nos retorna um conjunto (tipo set) e que na marcação inicial apenas uma marcação está habilitada (t1).\n",
        "\n",
        "Ainda é possível obter o conjunto de lugares, transições e arcos da rede: \n"
      ]
    },
    {
      "cell_type": "code",
      "metadata": {
        "id": "jjNu6s43-4F6"
      },
      "source": [
        "places = net.places\n",
        "transitions = net.transitions\n",
        "arcs = net.arcs"
      ],
      "execution_count": null,
      "outputs": []
    },
    {
      "cell_type": "markdown",
      "metadata": {
        "id": "xp2jTsyaApBC"
      },
      "source": [
        "Cada lugar da rede possui um nome e um conjunto de arcos de entrada e saída que o conecta às respectivas transições. \n",
        "\n",
        "As transições possuem nome, um conjunto de arcos de entrada e saída para os lugares e um label. "
      ]
    },
    {
      "cell_type": "markdown",
      "metadata": {
        "id": "98XeLW_GD1VA"
      },
      "source": [
        "Para visualizarmos todas as entradas de todos os lugares:"
      ]
    },
    {
      "cell_type": "code",
      "metadata": {
        "id": "sVYU04oPB8xR"
      },
      "source": [
        "# Percorre o conjunto de lugares\n",
        "for place in places:\n",
        " print(\"\\nPLACE: \"+place.name)\n",
        " # Percorre o conjunto de arcos de entrada\n",
        " for arc in place.in_arcs:\n",
        "  print(arc.source.name, arc.source.label)"
      ],
      "execution_count": null,
      "outputs": []
    },
    {
      "cell_type": "markdown",
      "metadata": {
        "id": "r5rVRB85EMmX"
      },
      "source": [
        "Para visualizarmos todas as saídas de todos os lugares da rede:"
      ]
    },
    {
      "cell_type": "code",
      "metadata": {
        "id": "MyxO_ex2En0q"
      },
      "source": [
        "# Percorre o conjunto de lugares\n",
        "for place in places:\n",
        " print(\"\\nPLACE: \"+place.name)\n",
        " # Percorre o conjunto de arcos de saida\n",
        " for arc in place.out_arcs:\n",
        "  print(arc.target.name)"
      ],
      "execution_count": null,
      "outputs": []
    },
    {
      "cell_type": "markdown",
      "metadata": {
        "id": "A3hbHF_-9zQq"
      },
      "source": [
        "Podemos verificar se uma transição específica está habilitada utilizando o método ```is_enabled``` do módulo ```semantics```:\n",
        "\n"
      ]
    },
    {
      "cell_type": "code",
      "metadata": {
        "id": "sIqWgXMsFrXr"
      },
      "source": [
        "print(\"initial marking : \", initial_marking)\n",
        "# Percorre o conjunto de transições\n",
        "for transition in transitions:\n",
        "  print(\"transition\", transition.name, \"is enabled?\", semantics.is_enabled(transition, net, initial_marking))"
      ],
      "execution_count": null,
      "outputs": []
    },
    {
      "cell_type": "markdown",
      "metadata": {
        "id": "2BBoH9dpHdSb"
      },
      "source": [
        "##3.6 Criando uma Rede de Petri\n",
        "\n",
        "Aqui mostraremos o código necessário para criar uma rede de Petri utilizando o PM4PY"
      ]
    }
  ]
}